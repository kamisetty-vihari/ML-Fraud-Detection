{
 "cells": [
  {
   "cell_type": "code",
   "execution_count": null,
   "id": "0da922c0",
   "metadata": {},
   "outputs": [],
   "source": [
    "import pandas as pd\n",
    "import numpy as np\n",
    "import seaborn as sns\n",
    "import matplotlib.pyplot as plt\n",
    "from sklearn.model_selection import train_test_split\n",
    "from sklearn.preprocessing import LabelEncoder\n",
    "from sklearn.ensemble import RandomForestClassifier\n",
    "from sklearn.metrics import classification_report, confusion_matrix, roc_auc_score\n",
    "from imblearn.over_sampling import SMOTE\n",
    "from statsmodels.stats.outliers_influence import variance_inflation_factor"
   ]
  },
  {
   "cell_type": "code",
   "execution_count": 2,
   "id": "7728b1ee",
   "metadata": {},
   "outputs": [
    {
     "data": {
      "text/html": [
       "<div>\n",
       "<style scoped>\n",
       "    .dataframe tbody tr th:only-of-type {\n",
       "        vertical-align: middle;\n",
       "    }\n",
       "\n",
       "    .dataframe tbody tr th {\n",
       "        vertical-align: top;\n",
       "    }\n",
       "\n",
       "    .dataframe thead th {\n",
       "        text-align: right;\n",
       "    }\n",
       "</style>\n",
       "<table border=\"1\" class=\"dataframe\">\n",
       "  <thead>\n",
       "    <tr style=\"text-align: right;\">\n",
       "      <th></th>\n",
       "      <th>step</th>\n",
       "      <th>type</th>\n",
       "      <th>amount</th>\n",
       "      <th>nameOrig</th>\n",
       "      <th>oldbalanceOrg</th>\n",
       "      <th>newbalanceOrig</th>\n",
       "      <th>nameDest</th>\n",
       "      <th>oldbalanceDest</th>\n",
       "      <th>newbalanceDest</th>\n",
       "      <th>isFraud</th>\n",
       "      <th>isFlaggedFraud</th>\n",
       "    </tr>\n",
       "  </thead>\n",
       "  <tbody>\n",
       "    <tr>\n",
       "      <th>0</th>\n",
       "      <td>1</td>\n",
       "      <td>PAYMENT</td>\n",
       "      <td>9839.64</td>\n",
       "      <td>C1231006815</td>\n",
       "      <td>170136.0</td>\n",
       "      <td>160296.36</td>\n",
       "      <td>M1979787155</td>\n",
       "      <td>0.0</td>\n",
       "      <td>0.0</td>\n",
       "      <td>0</td>\n",
       "      <td>0</td>\n",
       "    </tr>\n",
       "    <tr>\n",
       "      <th>1</th>\n",
       "      <td>1</td>\n",
       "      <td>PAYMENT</td>\n",
       "      <td>1864.28</td>\n",
       "      <td>C1666544295</td>\n",
       "      <td>21249.0</td>\n",
       "      <td>19384.72</td>\n",
       "      <td>M2044282225</td>\n",
       "      <td>0.0</td>\n",
       "      <td>0.0</td>\n",
       "      <td>0</td>\n",
       "      <td>0</td>\n",
       "    </tr>\n",
       "    <tr>\n",
       "      <th>2</th>\n",
       "      <td>1</td>\n",
       "      <td>TRANSFER</td>\n",
       "      <td>181.00</td>\n",
       "      <td>C1305486145</td>\n",
       "      <td>181.0</td>\n",
       "      <td>0.00</td>\n",
       "      <td>C553264065</td>\n",
       "      <td>0.0</td>\n",
       "      <td>0.0</td>\n",
       "      <td>1</td>\n",
       "      <td>0</td>\n",
       "    </tr>\n",
       "    <tr>\n",
       "      <th>3</th>\n",
       "      <td>1</td>\n",
       "      <td>CASH_OUT</td>\n",
       "      <td>181.00</td>\n",
       "      <td>C840083671</td>\n",
       "      <td>181.0</td>\n",
       "      <td>0.00</td>\n",
       "      <td>C38997010</td>\n",
       "      <td>21182.0</td>\n",
       "      <td>0.0</td>\n",
       "      <td>1</td>\n",
       "      <td>0</td>\n",
       "    </tr>\n",
       "    <tr>\n",
       "      <th>4</th>\n",
       "      <td>1</td>\n",
       "      <td>PAYMENT</td>\n",
       "      <td>11668.14</td>\n",
       "      <td>C2048537720</td>\n",
       "      <td>41554.0</td>\n",
       "      <td>29885.86</td>\n",
       "      <td>M1230701703</td>\n",
       "      <td>0.0</td>\n",
       "      <td>0.0</td>\n",
       "      <td>0</td>\n",
       "      <td>0</td>\n",
       "    </tr>\n",
       "  </tbody>\n",
       "</table>\n",
       "</div>"
      ],
      "text/plain": [
       "   step      type    amount     nameOrig  oldbalanceOrg  newbalanceOrig  \\\n",
       "0     1   PAYMENT   9839.64  C1231006815       170136.0       160296.36   \n",
       "1     1   PAYMENT   1864.28  C1666544295        21249.0        19384.72   \n",
       "2     1  TRANSFER    181.00  C1305486145          181.0            0.00   \n",
       "3     1  CASH_OUT    181.00   C840083671          181.0            0.00   \n",
       "4     1   PAYMENT  11668.14  C2048537720        41554.0        29885.86   \n",
       "\n",
       "      nameDest  oldbalanceDest  newbalanceDest  isFraud  isFlaggedFraud  \n",
       "0  M1979787155             0.0             0.0        0               0  \n",
       "1  M2044282225             0.0             0.0        0               0  \n",
       "2   C553264065             0.0             0.0        1               0  \n",
       "3    C38997010         21182.0             0.0        1               0  \n",
       "4  M1230701703             0.0             0.0        0               0  "
      ]
     },
     "execution_count": 2,
     "metadata": {},
     "output_type": "execute_result"
    }
   ],
   "source": [
    "\n",
    "df = pd.read_csv(r\"C:\\Users\\nikun\\Downloads\\Fraud.csv\")\n",
    "\n",
    "\n",
    "df.head()\n"
   ]
  },
  {
   "cell_type": "code",
   "execution_count": 3,
   "id": "8c693333",
   "metadata": {},
   "outputs": [
    {
     "name": "stdout",
     "output_type": "stream",
     "text": [
      "Shape: (6362620, 11)\n",
      "\n",
      "Data Types:\n",
      " step                int64\n",
      "type               object\n",
      "amount            float64\n",
      "nameOrig           object\n",
      "oldbalanceOrg     float64\n",
      "newbalanceOrig    float64\n",
      "nameDest           object\n",
      "oldbalanceDest    float64\n",
      "newbalanceDest    float64\n",
      "isFraud             int64\n",
      "isFlaggedFraud      int64\n",
      "dtype: object\n",
      "\n",
      "Missing Values:\n",
      " step              0\n",
      "type              0\n",
      "amount            0\n",
      "nameOrig          0\n",
      "oldbalanceOrg     0\n",
      "newbalanceOrig    0\n",
      "nameDest          0\n",
      "oldbalanceDest    0\n",
      "newbalanceDest    0\n",
      "isFraud           0\n",
      "isFlaggedFraud    0\n",
      "dtype: int64\n",
      "\n",
      "Target Distribution:\n",
      " isFraud\n",
      "0    0.998709\n",
      "1    0.001291\n",
      "Name: proportion, dtype: float64\n"
     ]
    }
   ],
   "source": [
    "\n",
    "print(\"Shape:\", df.shape)\n",
    "print(\"\\nData Types:\\n\", df.dtypes)\n",
    "print(\"\\nMissing Values:\\n\", df.isnull().sum())\n",
    "print(\"\\nTarget Distribution:\\n\", df['isFraud'].value_counts(normalize=True))\n",
    "\n"
   ]
  },
  {
   "cell_type": "code",
   "execution_count": 4,
   "id": "46cc6aa9",
   "metadata": {},
   "outputs": [
    {
     "data": {
      "image/png": "[encoded data removed]",
      "text/plain": [
       "<Figure size 640x480 with 1 Axes>"
      ]
     },
     "metadata": {},
     "output_type": "display_data"
    }
   ],
   "source": [
    "sns.countplot(x='isFraud', data=df)\n",
    "plt.title(\"Fraud Class Distribution\")\n",
    "plt.show()"
   ]
  },
  {
   "cell_type": "code",
   "execution_count": 5,
   "id": "71d2bf13",
   "metadata": {},
   "outputs": [],
   "source": [
    "\n",
    "# Drop Irrelevant Columns\n",
    "df.drop(['nameOrig', 'nameDest'], axis=1, inplace=True)\n"
   ]
  },
  {
   "cell_type": "code",
   "execution_count": null,
   "id": "46ca16cf",
   "metadata": {},
   "outputs": [],
   "source": [
    "\n",
    "#'type' is the categorical feature and tranforming it into numeric feature\n",
    "df['type'] = LabelEncoder().fit_transform(df['type'])\n"
   ]
  },
  {
   "cell_type": "code",
   "execution_count": null,
   "id": "7fd60741",
   "metadata": {},
   "outputs": [
    {
     "name": "stdout",
     "output_type": "stream",
     "text": [
      "         features         VIF\n",
      "0            step    2.235180\n",
      "1            type    2.075260\n",
      "2          amount    4.013539\n",
      "3   oldbalanceOrg  480.226670\n",
      "4  newbalanceOrig  483.729602\n",
      "5  oldbalanceDest   72.071759\n",
      "6  newbalanceDest   83.549914\n"
     ]
    }
   ],
   "source": [
    "\n",
    "#Multicollinearity \n",
    "X_vif = df.drop(['isFraud', 'isFlaggedFraud'], axis=1)\n",
    "vif_df = pd.DataFrame()\n",
    "vif_df['features'] = X_vif.columns\n",
    "vif_df['VIF'] = [variance_inflation_factor(X_vif.values, i) for i in range(X_vif.shape[1])]\n",
    "print(vif_df)\n"
   ]
  },
  {
   "cell_type": "code",
   "execution_count": 8,
   "id": "bf61647a",
   "metadata": {},
   "outputs": [],
   "source": [
    "\n",
    "# modeling\n",
    "X = df.drop(['isFraud', 'isFlaggedFraud'], axis=1)\n",
    "y = df['isFraud']\n",
    "X_train, X_test, y_train, y_test = train_test_split(X, y, test_size=0.2, random_state=42)\n"
   ]
  },
  {
   "cell_type": "code",
   "execution_count": null,
   "id": "126b3f68",
   "metadata": {},
   "outputs": [
    {
     "name": "stdout",
     "output_type": "stream",
     "text": [
      "After SMOTE: [5083503 5083503]\n"
     ]
    }
   ],
   "source": [
    "#SMOTE\n",
    "sm = SMOTE(random_state=42)\n",
    "X_res, y_res = sm.fit_resample(X_train, y_train)\n",
    "print(\"After SMOTE:\", np.bincount(y_res))\n"
   ]
  },
  {
   "cell_type": "code",
   "execution_count": null,
   "id": "c37cd2c4",
   "metadata": {},
   "outputs": [],
   "source": [
    "#Model Training - Random Forest\n",
    "rf = RandomForestClassifier(n_estimators=30,max_depth=10,random_state=42)\n",
    "rf.fit(X_res, y_res)\n",
    "y_pred = rf.predict(X_test)\n"
   ]
  },
  {
   "cell_type": "code",
   "execution_count": null,
   "id": "bca2e70e",
   "metadata": {},
   "outputs": [
    {
     "name": "stdout",
     "output_type": "stream",
     "text": [
      "Confusion Matrix:\n",
      " [[1249725   21179]\n",
      " [     21    1599]]\n",
      "\n",
      "Classification Report:\n",
      "               precision    recall  f1-score   support\n",
      "\n",
      "           0       1.00      0.98      0.99   1270904\n",
      "           1       0.07      0.99      0.13      1620\n",
      "\n",
      "    accuracy                           0.98   1272524\n",
      "   macro avg       0.54      0.99      0.56   1272524\n",
      "weighted avg       1.00      0.98      0.99   1272524\n",
      "\n",
      "ROC-AUC Score: 0.998437986554608\n"
     ]
    },
    {
     "data": {
      "image/png": "[encoded data removed]",
      "text/plain": [
       "<Figure size 640x480 with 1 Axes>"
      ]
     },
     "metadata": {},
     "output_type": "display_data"
    }
   ],
   "source": [
    "#Model Evaluation\n",
    "print(\"Confusion Matrix:\\n\", confusion_matrix(y_test, y_pred))\n",
    "print(\"\\nClassification Report:\\n\", classification_report(y_test, y_pred))\n",
    "print(\"ROC-AUC Score:\", roc_auc_score(y_test, rf.predict_proba(X_test)[:, 1]))\n",
    "\n",
    "# Feature Importance\n",
    "feat_imp = pd.Series(rf.feature_importances_, index=X.columns).sort_values(ascending=False)\n",
    "feat_imp.plot(kind='bar', title='Feature Importances')\n",
    "plt.show()\n"
   ]
  },
  {
   "cell_type": "markdown",
   "id": "dbd9e24d",
   "metadata": {},
   "source": [
    "1.Data cleaning including missing values, outliers and multi-collinearity.\n",
    "\n",
    "    No missing values\n",
    "\n",
    "    outliers — i didn't removed any outliers,they help in modeling since fraud is an outlier\n",
    "    \n",
    "    multicollinearity — checked using VIF\n",
    "\n",
    "\n",
    "2.Describe your fraud detection model in elaboration.\n",
    "\n",
    "    I used a Random Forest Classifier — it’s a collection of decision trees and works really well for datasets like this one, where fraud is rare and the patterns can be messy.\n",
    "\n",
    "    Since fraud is a rare event, I also used SMOTE to balance the data. It creates synthetic examples of fraud so the model gets enough exposure to them during training.\n",
    "\n",
    "3.How did you select variables to be included in the model?\n",
    "    I removed columns like nameOrig and nameDest those are just IDs and don’t help the model.\n",
    "\n",
    "    Then I encoded the type of transaction into numbers. \n",
    "\n",
    "    At last I checked multicollinearity using VIF and found the features which were truly contributing.\n",
    "\n",
    "4.Demonstrate the performance of the model by using best set of tools.\n",
    "    I evaluated it using standard metrics like precision, recall, F1-score, and ROC-AUC.\n",
    "\n",
    "    The ROC-AUC score is > 0.95, which is good for fraud detection.\n",
    "\n",
    "5.What are the key factors that predict fraudulent customer?\n",
    "\n",
    "\n",
    "    Transaction amount: Fraudsters often try to move large amounts.\n",
    "\n",
    "    Sender's balance before transaction (oldbalanceOrg)\n",
    "\n",
    "    The type of transaction — most frauds were either TRANSFER or CASH_OUT.\n",
    "\n",
    "    New balance of recipient — huge jumps in this field often indicated fraud.\n",
    "\n",
    "\n",
    "\n",
    "6.Do these factors make sense?If yes, How? If not, How not?\n",
    "    Yes,When someone’s account is taken over, fraudsters usually try to transfer or cash out as much as possible. So it makes sense that we’re seeing high amounts, balance mismatches, and sudden recipient balance jumps.\n",
    "\n",
    "\n",
    "\n",
    "7.What kind of prevention should be adopted while company update its infrastructure?\n",
    "\n",
    "    Monitor large transactions in TRANSFER and CASH_OUT categories.\n",
    "\n",
    "    Flag accounts that drain their entire balance suddenly.\n",
    "\n",
    "    Use anomaly detection on customer behavior\n",
    "\n",
    "    Introduce step-up authentication (like OTPs or 2FA) for big transfers.\n",
    "\n",
    "\n",
    "8.Assuming these actions have been implemented, how would you determine if they work?\n",
    "\n",
    "\n",
    "    Decrease in actual fraud rate.\n",
    "\n",
    "    Fewer false positives, so we don’t bother real customers unnecessarily.\n",
    "\n",
    "    Compare fraud rates before and after implementing these measures."
   ]
  }
 ],
 "metadata": {
  "kernelspec": {
   "display_name": "base",
   "language": "python",
   "name": "python3"
  },
  "language_info": {
   "codemirror_mode": {
    "name": "ipython",
    "version": 3
   },
   "file_extension": ".py",
   "mimetype": "text/x-python",
   "name": "python",
   "nbconvert_exporter": "python",
   "pygments_lexer": "ipython3",
   "version": "3.13.5"
  }
 },
 "nbformat": 4,
 "nbformat_minor": 5
}
